{
 "cells": [
  {
   "cell_type": "code",
   "execution_count": 1,
   "metadata": {},
   "outputs": [],
   "source": [
    "# remove previosuly created example file\n",
    "import os\n",
    "\n",
    "from daops.ops.subset import subset\n",
    "\n",
    "if os.path.exists(\"./output_001.nc\"):\n",
    "    os.remove(\"./output_001.nc\")"
   ]
  },
  {
   "cell_type": "markdown",
   "metadata": {},
   "source": [
    "## Subset\n",
    "\n",
    "Daops has a subsetting operation that calls ``clisops.ops.subset.subset`` from the ``clisops`` library. \n",
    "\n",
    "Before making the call to the subset operation, ``daops`` will look up a database of known fixes. If there are any fixes for the requested dataset then the data will be loaded and fixed using the ``xarray`` library and the subsetting operation is then carried out by ``clisops``."
   ]
  },
  {
   "cell_type": "markdown",
   "metadata": {},
   "source": [
    "### Results of subset and applying a fix\n",
    "\n",
    "The results of the subsetting operation in daops are returned as an ordered dictionary of the input dataset id and the output in the chosen format (xarray dataset, netcdf file paths, zarr file paths)\n",
    "\n",
    "The example below requires a fix so the elasticsearch index has been consulted.\n",
    "\n",
    "It also demostrates the results of the operation "
   ]
  },
  {
   "cell_type": "code",
   "execution_count": 2,
   "metadata": {},
   "outputs": [
    {
     "name": "stdout",
     "output_type": "stream",
     "text": [
      "2020-12-16 12:20:42,474 - /srv/conda/envs/notebook/lib/python3.7/site-packages/daops/utils/consolidate.py - INFO - Testing 1 files in time range: ...\n",
      "2020-12-16 12:20:42,507 - /srv/conda/envs/notebook/lib/python3.7/site-packages/daops/utils/consolidate.py - INFO - File 0: badc/cmip5/data/cmip5/output1/INM/inmcm4/rcp45/mon/ocean/Omon/r1i1p1/latest/zostoga/zostoga_Omon_inmcm4_rcp45_r1i1p1_200601-210012.nc\n",
      "2020-12-16 12:20:42,766 - /srv/conda/envs/notebook/lib/python3.7/site-packages/daops/utils/consolidate.py - INFO - Kept 1 files\n",
      "2020-12-16 12:20:42,767 - /srv/conda/envs/notebook/lib/python3.7/site-packages/daops/utils/normalise.py - INFO - Working on datasets: OrderedDict([('badc/cmip5/data/cmip5/output1/INM/inmcm4/rcp45/mon/ocean/Omon/r1i1p1/latest/zostoga/*.nc', ['badc/cmip5/data/cmip5/output1/INM/inmcm4/rcp45/mon/ocean/Omon/r1i1p1/latest/zostoga/zostoga_Omon_inmcm4_rcp45_r1i1p1_200601-210012.nc'])])\n",
      "2020-12-16 12:20:43,550 - elasticsearch - INFO - GET https://elasticsearch.ceda.ac.uk:443/roocs-fix/_doc/f34d45e4f7f5e187f64021b685adc447 [status:200 request:0.782s]\n",
      "2020-12-16 12:20:43,566 - /srv/conda/envs/notebook/lib/python3.7/site-packages/daops/utils/core.py - INFO - Running post-processing function: squeeze_dims\n",
      "2020-12-16 12:20:43,569 - /srv/conda/envs/notebook/lib/python3.7/site-packages/daops/processor.py - INFO - Running subset [serial]: on Dataset with args: {'time': Time period to subset over\n",
      " start time: 1955-01-01T00:00:00\n",
      " end time: 2013-12-30T00:00:00, 'area': Area to subset over:\n",
      " None, 'level': Level range to subset over\n",
      " first_level: None\n",
      " last_level: None, 'output_type': 'xarray', 'output_dir': None, 'split_method': 'time:auto', 'file_namer': 'standard'}\n",
      "2020-12-16 12:20:43,597 - /srv/conda/envs/notebook/lib/python3.7/site-packages/clisops/ops/subset.py - INFO - Processing subset for times: ('2006-01-16', '2013-12-16')\n",
      "2020-12-16 12:20:43,599 - /srv/conda/envs/notebook/lib/python3.7/site-packages/clisops/utils/output_utils.py - INFO - fmt_method=None, output_type=xarray\n",
      "2020-12-16 12:20:43,600 - /srv/conda/envs/notebook/lib/python3.7/site-packages/clisops/utils/output_utils.py - INFO - Returning output as <class 'xarray.core.dataset.Dataset'>\n"
     ]
    },
    {
     "name": "stderr",
     "output_type": "stream",
     "text": [
      "/srv/conda/envs/notebook/lib/python3.7/site-packages/clisops/ops/subset.py:34: UserWarning: \"start_date\" not found within input date time range. Defaulting to minimum time step in xarray object.\n",
      "  result = subset_time(ds, **kwargs)\n",
      "/srv/conda/envs/notebook/lib/python3.7/site-packages/clisops/ops/subset.py:34: UserWarning: \"end_date\" has been nudged to nearest valid time step in xarray object.\n",
      "  result = subset_time(ds, **kwargs)\n"
     ]
    },
    {
     "data": {
      "text/plain": [
       "OrderedDict([('badc/cmip5/data/cmip5/output1/INM/inmcm4/rcp45/mon/ocean/Omon/r1i1p1/latest/zostoga/*.nc',\n",
       "              [<xarray.Dataset>\n",
       "               Dimensions:    (bnds: 2, time: 96)\n",
       "               Coordinates:\n",
       "                   lev        float64 0.0\n",
       "                 * time       (time) object 2006-01-16 12:00:00 ... 2013-12-16 12:00:00\n",
       "               Dimensions without coordinates: bnds\n",
       "               Data variables:\n",
       "                   lev_bnds   (bnds) float64 dask.array<chunksize=(2,), meta=np.ndarray>\n",
       "                   time_bnds  (time, bnds) object dask.array<chunksize=(96, 2), meta=np.ndarray>\n",
       "                   zostoga    (time) float32 dask.array<chunksize=(96,), meta=np.ndarray>\n",
       "               Attributes:\n",
       "                   institution:            INM (Institute for Numerical Mathematics,  Moscow...\n",
       "                   institute_id:           INM\n",
       "                   experiment_id:          rcp45\n",
       "                   source:                 inmcm4 (2009)\n",
       "                   model_id:               inmcm4\n",
       "                   forcing:                N/A\n",
       "                   parent_experiment_id:   historical\n",
       "                   branch_time:            56940.0\n",
       "                   contact:                Evgeny Volodin, volodin@inm.ras.ru,INM RAS, Gubki...\n",
       "                   history:                Mon Mar  9 11:49:38 2020: ncks -d lev,,,8 -v zost...\n",
       "                   comment:                no comments\n",
       "                   references:             Volodin, Diansky, Gusev 2010. Climate model INMCM...\n",
       "                   initialization_method:  1\n",
       "                   physics_version:        1\n",
       "                   tracking_id:            e16ae391-db18-4e82-b2b8-46ff24aeec77\n",
       "                   product:                output\n",
       "                   experiment:             RCP4.5\n",
       "                   frequency:              mon\n",
       "                   creation_date:          2010-11-19T08:18:56Z\n",
       "                   Conventions:            CF-1.4\n",
       "                   project_id:             CMIP5\n",
       "                   table_id:               Table Omon (12 May 2010) f2afe576fb73a3a11aaa3cc8...\n",
       "                   title:                  inmcm4 model output prepared for CMIP5 RCP4.5\n",
       "                   parent_experiment:      Historical\n",
       "                   modeling_realm:         ocean\n",
       "                   realization:            1\n",
       "                   cmor_version:           2.0.0\n",
       "                   NCO:                    4.7.3])])"
      ]
     },
     "execution_count": 2,
     "metadata": {},
     "output_type": "execute_result"
    }
   ],
   "source": [
    "# An example of subsetting a dataset that requires a fix - the elasticsearch index is consulted.\n",
    "\n",
    "ds = \"badc/cmip5/data/cmip5/output1/INM/inmcm4/rcp45/mon/ocean/Omon/r1i1p1/latest/zostoga/*.nc\"\n",
    "result = subset(\n",
    "        ds,\n",
    "        time=(\"1955-01-01T00:00:00\", \"2013-12-30T00:00:00\"),\n",
    "        output_dir=None,\n",
    "        output_type=\"xarray\",\n",
    "    )\n",
    "\n",
    "result._results"
   ]
  },
  {
   "cell_type": "markdown",
   "metadata": {},
   "source": [
    "### File paths of output\n",
    "\n",
    "If output as file paths, it is also possible to access just the output file paths from the results object.\n",
    "This is demonstrated below."
   ]
  },
  {
   "cell_type": "code",
   "execution_count": 3,
   "metadata": {},
   "outputs": [
    {
     "name": "stdout",
     "output_type": "stream",
     "text": [
      "2020-12-16 12:20:43,627 - /srv/conda/envs/notebook/lib/python3.7/site-packages/daops/utils/consolidate.py - INFO - Testing 1 files in time range: ...\n",
      "2020-12-16 12:20:43,649 - /srv/conda/envs/notebook/lib/python3.7/site-packages/daops/utils/consolidate.py - INFO - File 0: badc/cmip5/data/cmip5/output1/INM/inmcm4/rcp45/mon/ocean/Omon/r1i1p1/latest/zostoga/zostoga_Omon_inmcm4_rcp45_r1i1p1_200601-210012.nc\n",
      "2020-12-16 12:20:43,973 - /srv/conda/envs/notebook/lib/python3.7/site-packages/daops/utils/consolidate.py - INFO - Kept 1 files\n",
      "2020-12-16 12:20:43,975 - /srv/conda/envs/notebook/lib/python3.7/site-packages/daops/utils/normalise.py - INFO - Working on datasets: OrderedDict([('badc/cmip5/data/cmip5/output1/INM/inmcm4/rcp45/mon/ocean/Omon/r1i1p1/latest/zostoga/*.nc', ['badc/cmip5/data/cmip5/output1/INM/inmcm4/rcp45/mon/ocean/Omon/r1i1p1/latest/zostoga/zostoga_Omon_inmcm4_rcp45_r1i1p1_200601-210012.nc'])])\n",
      "2020-12-16 12:20:44,431 - elasticsearch - INFO - GET https://elasticsearch.ceda.ac.uk:443/roocs-fix/_doc/f34d45e4f7f5e187f64021b685adc447 [status:200 request:0.454s]\n",
      "2020-12-16 12:20:44,445 - /srv/conda/envs/notebook/lib/python3.7/site-packages/daops/utils/core.py - INFO - Running post-processing function: squeeze_dims\n",
      "2020-12-16 12:20:44,447 - /srv/conda/envs/notebook/lib/python3.7/site-packages/daops/processor.py - INFO - Running subset [serial]: on Dataset with args: {'time': Time period to subset over\n",
      " start time: 1955-01-01T00:00:00\n",
      " end time: 2013-12-30T00:00:00, 'area': Area to subset over:\n",
      " None, 'level': Level range to subset over\n",
      " first_level: None\n",
      " last_level: None, 'output_type': 'netcdf', 'output_dir': '.', 'split_method': 'time:auto', 'file_namer': 'simple'}\n",
      "2020-12-16 12:20:44,463 - /srv/conda/envs/notebook/lib/python3.7/site-packages/clisops/ops/subset.py - INFO - Processing subset for times: ('2006-01-16', '2013-12-16')\n",
      "2020-12-16 12:20:44,464 - /srv/conda/envs/notebook/lib/python3.7/site-packages/clisops/utils/output_utils.py - INFO - fmt_method=to_netcdf, output_type=netcdf\n",
      "2020-12-16 12:20:44,535 - /srv/conda/envs/notebook/lib/python3.7/site-packages/clisops/utils/output_utils.py - INFO - Wrote output file: ./output_001.nc\n",
      "ouptut file paths =  ['./output_001.nc']\n"
     ]
    },
    {
     "name": "stderr",
     "output_type": "stream",
     "text": [
      "/srv/conda/envs/notebook/lib/python3.7/site-packages/clisops/ops/subset.py:34: UserWarning: \"start_date\" not found within input date time range. Defaulting to minimum time step in xarray object.\n",
      "  result = subset_time(ds, **kwargs)\n",
      "/srv/conda/envs/notebook/lib/python3.7/site-packages/clisops/ops/subset.py:34: UserWarning: \"end_date\" has been nudged to nearest valid time step in xarray object.\n",
      "  result = subset_time(ds, **kwargs)\n"
     ]
    }
   ],
   "source": [
    "# An example of subsetting a dataset that requires a fix - the elasticsearch index is consulted.\n",
    "\n",
    "ds = \"badc/cmip5/data/cmip5/output1/INM/inmcm4/rcp45/mon/ocean/Omon/r1i1p1/latest/zostoga/*.nc\"\n",
    "result = subset(\n",
    "        ds,\n",
    "        time=(\"1955-01-01T00:00:00\", \"2013-12-30T00:00:00\"),\n",
    "        output_dir=\".\",\n",
    "        output_type=\"netcdf\",\n",
    "        file_namer=\"simple\"\n",
    "    )\n",
    "\n",
    "print(\"ouptut file paths = \", result.file_uris)"
   ]
  },
  {
   "cell_type": "markdown",
   "metadata": {},
   "source": [
    "### Checks implemented by daops\n",
    "\n",
    "Daops will check that files exist in the requested time range"
   ]
  },
  {
   "cell_type": "code",
   "execution_count": 4,
   "metadata": {},
   "outputs": [
    {
     "name": "stdout",
     "output_type": "stream",
     "text": [
      "2020-12-16 12:20:44,553 - /srv/conda/envs/notebook/lib/python3.7/site-packages/daops/utils/consolidate.py - INFO - Testing 0 files in time range: ...\n",
      "no files to open\n"
     ]
    }
   ],
   "source": [
    "ds = \"/badc/cmip5/data/cmip5/output1/INM/inmcm4/rcp45/mon/ocean/Omon/r1i1p1/latest/zostoga/*.nc\"\n",
    "\n",
    "try:\n",
    "    result = subset(\n",
    "            ds,\n",
    "            time=(\"1955-01-01T00:00:00\", \"1990-12-30T00:00:00\"),\n",
    "            output_dir=None,\n",
    "            output_type=\"xarray\",\n",
    "        )\n",
    "\n",
    "except Exception as exc:\n",
    "    print(exc)"
   ]
  }
 ],
 "metadata": {
  "kernelspec": {
   "display_name": "Python 3",
   "language": "python",
   "name": "python3"
  },
  "language_info": {
   "codemirror_mode": {
    "name": "ipython",
    "version": 3
   },
   "file_extension": ".py",
   "mimetype": "text/x-python",
   "name": "python",
   "nbconvert_exporter": "python",
   "pygments_lexer": "ipython3",
   "version": "3.7.8"
  }
 },
 "nbformat": 4,
 "nbformat_minor": 4
}
